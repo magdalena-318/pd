{
  "nbformat": 4,
  "nbformat_minor": 0,
  "metadata": {
    "colab": {
      "provenance": [],
      "authorship_tag": "ABX9TyODVSWBPuFiuTnBlppFv7D6",
      "include_colab_link": true
    },
    "kernelspec": {
      "name": "python3",
      "display_name": "Python 3"
    },
    "language_info": {
      "name": "python"
    }
  },
  "cells": [
    {
      "cell_type": "markdown",
      "metadata": {
        "id": "view-in-github",
        "colab_type": "text"
      },
      "source": [
        "<a href=\"https://colab.research.google.com/github/magdalena-318/pd/blob/main/szczepaniak_magdalena_1_numerZajec_3.ipynb\" target=\"_parent\"><img src=\"https://colab.research.google.com/assets/colab-badge.svg\" alt=\"Open In Colab\"/></a>"
      ]
    },
    {
      "cell_type": "code",
      "execution_count": 12,
      "metadata": {
        "colab": {
          "base_uri": "https://localhost:8080/"
        },
        "id": "MQd810FkPxdT",
        "outputId": "d7254100-2364-4c52-ab05-2df7a21b5e87"
      },
      "outputs": [
        {
          "output_type": "stream",
          "name": "stdout",
          "text": [
            "Imię: 276\n",
            "Na pewno? Spróbuj raz jeszcze.\n",
            "Imię: zuzia\n",
            "Poprawne imię.\n",
            "Nazwisko: 28\n",
            "Chyba to nie nazwisko. Spróbuj ponownie.\n",
            "Nazwisko: Kowalska\n",
            "Poprawne nazwisko!\n"
          ]
        }
      ],
      "source": [
        "while True:\n",
        "  name = input(\"Imię: \")\n",
        "  if name.isdigit():\n",
        "    print(\"Na pewno? Spróbuj raz jeszcze.\")\n",
        "  else:\n",
        "    print(\"Poprawne imię.\")\n",
        "    break\n",
        "\n",
        "while True:\n",
        "  surname = input(\"Nazwisko: \")\n",
        "  if surname.isdigit():\n",
        "    print(\"Chyba to nie nazwisko. Spróbuj ponownie.\")\n",
        "  else:\n",
        "    print(\"Poprawne nazwisko!\")\n",
        "    break\n",
        "\n",
        "# jeszcze nie uczyliśmy się o pętlach, więc tutaj by działało jedynie do drugiej próby\n",
        "# nie wiem jak zrobić bez tego while, znalazłam w tutorialach"
      ]
    },
    {
      "cell_type": "code",
      "source": [
        "while True:\n",
        "  age = input(\"Wiek: \")\n",
        "  if not age.isdigit():\n",
        "    print(\"Podaj wiek w cyfrach.\")\n",
        "  else:\n",
        "    print(\"Wiek poprawny.\")\n",
        "    break"
      ],
      "metadata": {
        "colab": {
          "base_uri": "https://localhost:8080/"
        },
        "id": "5EiGZRv_m2zi",
        "outputId": "300e74ad-8573-4fc1-8a92-3128029a167b"
      },
      "execution_count": 13,
      "outputs": [
        {
          "output_type": "stream",
          "name": "stdout",
          "text": [
            "Wiek: dwa\n",
            "Podaj wiek w cyfrach.\n",
            "Wiek: 12\n",
            "Wiek poprawny.\n"
          ]
        }
      ]
    },
    {
      "cell_type": "code",
      "source": [
        "spassword = input(\"Hasło: \")\n",
        "\n",
        "while True:\n",
        "  password2 = input(\"Powtórz hasło: \")\n",
        "  if not password == password2:\n",
        "    print(\"Niepoprawnie powtórzone hasło. Spróbuj ponownie.\")\n",
        "  else:\n",
        "    print(\"Poprawnie powtórzone hasło.\")\n",
        "    break\n",
        "\n",
        "# tutaj tak samo z tym while"
      ],
      "metadata": {
        "colab": {
          "base_uri": "https://localhost:8080/"
        },
        "id": "-tKduFJ7nlJp",
        "outputId": "12b17b6b-09a1-47d7-b343-3b9626ead8d5"
      },
      "execution_count": 14,
      "outputs": [
        {
          "output_type": "stream",
          "name": "stdout",
          "text": [
            "Hasło: 78\n",
            "Powtórz hasło: sh\n",
            "Niepoprawnie powtórzone hasło. Spróbuj ponownie.\n",
            "Powtórz hasło: ss\n",
            "Niepoprawnie powtórzone hasło. Spróbuj ponownie.\n",
            "Powtórz hasło: 78\n",
            "Poprawnie powtórzone hasło.\n"
          ]
        }
      ]
    },
    {
      "cell_type": "code",
      "source": [
        "while True:\n",
        "  phone = input(\"Numer telefonu: \")\n",
        "  phone_correct = phone.replace(\" \", \"\").replace(\"-\",\"\")\n",
        "  if not phone_correct.isdigit():\n",
        "    print(\"Są tam nieprawidłowe znaki.\")\n",
        "  elif len(phone_correct) != 9:\n",
        "    print(\"Telefon powinien mieć 9 cyfr. Sprawdź go raz jeszcze.\")\n",
        "  else:\n",
        "    print(\"Dobrze!\")\n",
        "    break"
      ],
      "metadata": {
        "id": "67uphBNbqtAf",
        "colab": {
          "base_uri": "https://localhost:8080/"
        },
        "outputId": "cb57a4ca-bc2e-4249-f162-59955c152c78"
      },
      "execution_count": 15,
      "outputs": [
        {
          "output_type": "stream",
          "name": "stdout",
          "text": [
            "Numer telefonu: gggssssss\n",
            "Są tam nieprawidłowe znaki.\n",
            "Numer telefonu: 872-782@872\n",
            "Są tam nieprawidłowe znaki.\n",
            "Numer telefonu: 988-822-281\n",
            "Dobrze!\n"
          ]
        }
      ]
    },
    {
      "cell_type": "code",
      "source": [
        "print(\"Imię: \",name.capitalize())\n",
        "print(\"Nazwisko: \",surname.capitalize())\n",
        "print(\"Wiek: \",age)\n",
        "print(\"Hasło: \",password)\n",
        "print(\"Numer telefonu: \",phone_correct)"
      ],
      "metadata": {
        "colab": {
          "base_uri": "https://localhost:8080/"
        },
        "id": "neCtiPBixQ6u",
        "outputId": "164b50eb-4548-41b1-99c3-d65c80ab3907"
      },
      "execution_count": 17,
      "outputs": [
        {
          "output_type": "stream",
          "name": "stdout",
          "text": [
            "Imię:  Zuzia\n",
            "Nazwisko:  Kowalska\n",
            "Wiek:  12\n",
            "Hasło:  78\n",
            "Numer telefonu:  988822281\n"
          ]
        }
      ]
    },
    {
      "cell_type": "code",
      "source": [
        "# teraz zadanie nr 2"
      ],
      "metadata": {
        "id": "kjHBMnCVz7KL"
      },
      "execution_count": null,
      "outputs": []
    },
    {
      "cell_type": "code",
      "source": [
        "while True:\n",
        "  liczba1 = input(\"Podaj liczbę: \")\n",
        "  if liczba1.isdigit():\n",
        "    liczba1_fix = int(liczba1)\n",
        "    break\n",
        "  else:\n",
        "    print(\"Błąd, użytkowniku. Możesz użyć tylko dodatnich liczb całkowitych.\")\n",
        "\n",
        "# nie wiedziałam jak zrobić, żeby ujemne i po przecinku działały\n",
        "\n",
        "while True:\n",
        "  liczba2 = input(\"Podaj kolejną liczbę: \")\n",
        "  if liczba2.isdigit():\n",
        "    liczba2_fix = int(liczba2)\n",
        "    break\n",
        "  else:\n",
        "    print(\"Tylko dodatnie liczby całkowite!\")\n"
      ],
      "metadata": {
        "colab": {
          "base_uri": "https://localhost:8080/"
        },
        "id": "NStlTbbt1Dh1",
        "outputId": "feecfd2e-c0c5-4b3c-88a9-8a466242345d"
      },
      "execution_count": 20,
      "outputs": [
        {
          "name": "stdout",
          "output_type": "stream",
          "text": [
            "Podaj liczbę: -29\n",
            "Błąd, użytkowniku. Możesz użyć tylko dodatnich liczb całkowitych.\n",
            "Podaj liczbę: 22\n",
            "Podaj kolejną liczbę: 9\n"
          ]
        }
      ]
    },
    {
      "cell_type": "code",
      "source": [
        "print(\"Odejmowanie:\",liczba1_fix-liczba2_fix)\n",
        "print(\"Dodawanie:\",liczba1_fix+liczba2_fix)\n",
        "print(\"Mnożenie:\",liczba1_fix*liczba2_fix)\n",
        "print(\"Potęgowanie:\",liczba1_fix**liczba2_fix)\n",
        "\n",
        "if liczba2_fix == 0:\n",
        "  print(\"Nie dzielimy przez 0.\")\n",
        "else:\n",
        "  print(\"Dzielenie:\",liczba1_fix/liczba2_fix)\n",
        "  print(\"Reszta z dzielenia:\",liczba1_fix%liczba2_fix)"
      ],
      "metadata": {
        "colab": {
          "base_uri": "https://localhost:8080/"
        },
        "id": "_kSHXV863vb3",
        "outputId": "bca2cafd-6be6-4cb8-b6c8-5f92a774aac4"
      },
      "execution_count": 21,
      "outputs": [
        {
          "output_type": "stream",
          "name": "stdout",
          "text": [
            "Odejmowanie: 13\n",
            "Dodawanie: 31\n",
            "Mnożenie: 198\n",
            "Potęgowanie: 1207269217792\n",
            "Dzielenie: 2.4444444444444446\n",
            "Reszta z dzielenia: 4\n"
          ]
        }
      ]
    },
    {
      "cell_type": "code",
      "source": [
        "# lub opcja dwa z formularzem co chcemy zrobić?\n",
        "\n",
        "while True:\n",
        "  operacja = input(\"Jaką operację chcesz wykonać? Wpisz znak: - (odejmowanie), + (dodawanie), * (mnożenie), ** (potęgowanie), / (dzielenie) lub % (reszta z dzielenia)\")\n",
        "  if operacja == \"-\":\n",
        "    print(\"Odejmowanie:\",liczba1_fix-liczba2_fix)\n",
        "  elif operacja == \"+\":\n",
        "    print(\"Dodawanie:\",liczba1_fix+liczba2_fix)\n",
        "  elif operacja == \"*\":\n",
        "    print(\"Mnożenie:\",liczba1_fix*liczba2_fix)\n",
        "  elif operacja == \"**\":\n",
        "    print(\"Potęgowanie:\",liczba1_fix**liczba2_fix)\n",
        "  elif operacja == \"/\":\n",
        "    if liczba2_fix == 0:\n",
        "      print(\"Nie dzielimy przez 0.\")\n",
        "    else:\n",
        "      print(\"Dzielenie:\",liczba1_fix/liczba2_fix)\n",
        "  elif operacja == \"%\":\n",
        "    print(\"Reszta z dzielenia:\",liczba1_fix%liczba2_fix)\n",
        "  else:\n",
        "    print(\"Nie o to mi chodziło. Musisz wpisać znak!\")\n",
        "    break\n",
        "\n",
        "# to jest wszystko na tym while jak zwykły kalkulator tak jakby? że promptuje to wpisania kolejnych znaków i kolejnych obliczeń\n",
        "# bo wydaje mi się, że możnaby było każdy if wsadzić w oddzielny while ale to nie wygląda estetycznie ani jakby miało sens wielki\n"
      ],
      "metadata": {
        "id": "S0OH6ro94fjz",
        "colab": {
          "base_uri": "https://localhost:8080/"
        },
        "outputId": "3d735dd9-8ce1-4652-d371-51b1754885ac"
      },
      "execution_count": 27,
      "outputs": [
        {
          "output_type": "stream",
          "name": "stdout",
          "text": [
            "Jaką operację chcesz wykonać? Wpisz znak: - (odejmowanie), + (dodawanie), * (mnożenie), ** (potęgowanie), / (dzielenie) lub % (reszta z dzielenia)-\n",
            "Odejmowanie: 13\n",
            "Jaką operację chcesz wykonać? Wpisz znak: - (odejmowanie), + (dodawanie), * (mnożenie), ** (potęgowanie), / (dzielenie) lub % (reszta z dzielenia)+\n",
            "Dodawanie: 31\n",
            "Jaką operację chcesz wykonać? Wpisz znak: - (odejmowanie), + (dodawanie), * (mnożenie), ** (potęgowanie), / (dzielenie) lub % (reszta z dzielenia)dwa\n",
            "Nie o to mi chodziło. Musisz wpisać znak!\n"
          ]
        }
      ]
    },
    {
      "cell_type": "code",
      "source": [
        "# lub to wszystko w jednym formularzu: liczba pierwsza, operacja i druga\n",
        "\n",
        "while True:\n",
        "  liczba1 = input(\"Podaj liczbę: \")\n",
        "  if liczba1.isdigit():\n",
        "    liczba1_fix = int(liczba1)\n",
        "    break\n",
        "  else:\n",
        "    print(\"Błąd, użytkowniku. Możesz użyć tylko dodatnich liczb całkowitych.\")\n",
        "\n",
        "\n",
        "while True:\n",
        "  liczba2 = input(\"Podaj kolejną liczbę: \")\n",
        "  if liczba2.isdigit():\n",
        "    liczba2_fix = int(liczba2)\n",
        "    break\n",
        "  else:\n",
        "    print(\"Tylko dodatnie liczby całkowite!\")\n",
        "\n",
        "operacja = input(\"Jaką operację chcesz wykonać? Wpisz znak: - (odejmowanie), + (dodawanie), * (mnożenie), ** (potęgowanie), / (dzielenie) lub % (reszta z dzielenia)\")\n",
        "\n",
        "\n",
        "while True:\n",
        "  if operacja == \"-\":\n",
        "    print(\"Odejmowanie:\",liczba1_fix-liczba2_fix)\n",
        "    break\n",
        "  elif operacja == \"+\":\n",
        "    print(\"Dodawanie:\",liczba1_fix+liczba2_fix)\n",
        "    break\n",
        "  elif operacja == \"*\":\n",
        "    print(\"Mnożenie:\",liczba1_fix*liczba2_fix)\n",
        "    break\n",
        "  elif operacja == \"**\":\n",
        "    print(\"Potęgowanie:\",liczba1_fix**liczba2_fix)\n",
        "    break\n",
        "  elif operacja == \"/\":\n",
        "    if liczba2_fix == 0:\n",
        "      print(\"Nie dzielimy przez 0.\")\n",
        "      break\n",
        "    else:\n",
        "      print(\"Dzielenie:\",liczba1_fix/liczba2_fix)\n",
        "      break\n",
        "  elif operacja == \"%\":\n",
        "    print(\"Reszta z dzielenia:\",liczba1_fix%liczba2_fix)\n",
        "    break\n",
        "  elif not operacja.isdigit():\n",
        "    print(\"Nie o to mi chodziło. Musisz wpisać znak!\")\n",
        "    break\n",
        "\n",
        "\n",
        "# chciałam, żeby wpisanie znaku było faktycznie wpisywane jako drugie, ale wtedy informacja o błędzie pojawia się po wpisaniu kolejnej liczby\n",
        "# i też żeby na pętli było to promptowanie o operacje tak jak wcześniej, ale nie wiedziałam dokładnie jak"
      ],
      "metadata": {
        "colab": {
          "base_uri": "https://localhost:8080/"
        },
        "id": "JFthauqr_QRh",
        "outputId": "58f961e5-e6dc-436b-9991-aecf1dfdec66"
      },
      "execution_count": 44,
      "outputs": [
        {
          "output_type": "stream",
          "name": "stdout",
          "text": [
            "Podaj liczbę: 10\n",
            "Podaj kolejną liczbę: 10\n",
            "Jaką operację chcesz wykonać? Wpisz znak: - (odejmowanie), + (dodawanie), * (mnożenie), ** (potęgowanie), / (dzielenie) lub % (reszta z dzielenia)/\n",
            "Dzielenie: 1.0\n"
          ]
        }
      ]
    },
    {
      "cell_type": "code",
      "source": [],
      "metadata": {
        "id": "ZUVhZhNSAnW0"
      },
      "execution_count": 36,
      "outputs": []
    }
  ]
}