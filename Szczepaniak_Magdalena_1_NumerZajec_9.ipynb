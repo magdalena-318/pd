{
  "nbformat": 4,
  "nbformat_minor": 0,
  "metadata": {
    "colab": {
      "provenance": [],
      "authorship_tag": "ABX9TyOVG7ZbsV6iJCS80sNkLxjg",
      "include_colab_link": true
    },
    "kernelspec": {
      "name": "python3",
      "display_name": "Python 3"
    },
    "language_info": {
      "name": "python"
    }
  },
  "cells": [
    {
      "cell_type": "markdown",
      "metadata": {
        "id": "view-in-github",
        "colab_type": "text"
      },
      "source": [
        "<a href=\"https://colab.research.google.com/github/magdalena-318/pd/blob/main/Szczepaniak_Magdalena_1_NumerZajec_9.ipynb\" target=\"_parent\"><img src=\"https://colab.research.google.com/assets/colab-badge.svg\" alt=\"Open In Colab\"/></a>"
      ]
    },
    {
      "cell_type": "code",
      "execution_count": 13,
      "metadata": {
        "id": "CPmCmfuQaSRu"
      },
      "outputs": [],
      "source": [
        "import regex as re"
      ]
    },
    {
      "cell_type": "code",
      "source": [
        "tekst1 = \"Imię i nazwisko: Hubar, Patryk. Data urodzenia: 7 czerwca 1993. Numer telefonu: 123-456-789\"\n",
        "tekst2 = \"Imię i nazwisko: Mickiewicz, Adam. Data urodzenia: 22 stycznia 1877. Numer telefonu: 789456123\""
      ],
      "metadata": {
        "id": "1Z5cBHETcDfM"
      },
      "execution_count": 14,
      "outputs": []
    },
    {
      "cell_type": "code",
      "source": [
        "teksty = tekst1 + \"\" + tekst2"
      ],
      "metadata": {
        "id": "AS6kI025elTg"
      },
      "execution_count": 19,
      "outputs": []
    },
    {
      "cell_type": "code",
      "source": [
        "imie_nazwisko = re.findall(\"[A-Za-zŻŹĆŃĄŚŁĘÓżźćńąśłęó]+, [A-Za-zŻŹĆŃĄŚŁĘÓżźćńąśłęó]+\", teksty)\n",
        "\n",
        "imie_nazwisko"
      ],
      "metadata": {
        "colab": {
          "base_uri": "https://localhost:8080/"
        },
        "id": "uOQymMFAe1yP",
        "outputId": "0d6a6182-2646-4e53-b136-7c3e0927bdc6"
      },
      "execution_count": 20,
      "outputs": [
        {
          "output_type": "execute_result",
          "data": {
            "text/plain": [
              "['Hubar, Patryk', 'Mickiewicz, Adam']"
            ]
          },
          "metadata": {},
          "execution_count": 20
        }
      ]
    },
    {
      "cell_type": "code",
      "source": [
        "telefony = re.findall(\"\\d{3}[\\s-]?\\d{3}[\\s-]?\\d{3}\", teksty)\n",
        "\n",
        "telefony"
      ],
      "metadata": {
        "colab": {
          "base_uri": "https://localhost:8080/"
        },
        "id": "c68HK4n2n2A9",
        "outputId": "9642f392-a376-46be-e70a-b5a5072db147"
      },
      "execution_count": 21,
      "outputs": [
        {
          "output_type": "execute_result",
          "data": {
            "text/plain": [
              "['123-456-789', '789456123']"
            ]
          },
          "metadata": {},
          "execution_count": 21
        }
      ]
    },
    {
      "cell_type": "code",
      "source": [
        "daty_urodzenia = re.findall(\"\\d{1,2} [a-zżźćńąśłęó]+ \\d{4}\", teksty)\n",
        "\n",
        "daty_urodzenia"
      ],
      "metadata": {
        "colab": {
          "base_uri": "https://localhost:8080/"
        },
        "id": "sDhnJnCap1Kz",
        "outputId": "2e642e83-b622-4230-b9ae-c14939ae7f2e"
      },
      "execution_count": 22,
      "outputs": [
        {
          "output_type": "execute_result",
          "data": {
            "text/plain": [
              "['7 czerwca 1993', '22 stycznia 1877']"
            ]
          },
          "metadata": {},
          "execution_count": 22
        }
      ]
    },
    {
      "cell_type": "code",
      "source": [],
      "metadata": {
        "id": "e5xoz2WgrCnf"
      },
      "execution_count": null,
      "outputs": []
    }
  ]
}