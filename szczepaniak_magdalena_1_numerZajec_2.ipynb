{
  "nbformat": 4,
  "nbformat_minor": 0,
  "metadata": {
    "colab": {
      "provenance": []
    },
    "kernelspec": {
      "name": "python3",
      "display_name": "Python 3"
    },
    "language_info": {
      "name": "python"
    }
  },
  "cells": [
    {
      "cell_type": "code",
      "execution_count": 5,
      "metadata": {
        "id": "esGPAT5yzjl6"
      },
      "outputs": [],
      "source": [
        "twierdzenie = \"Uwielbiam zajęcia z programowania\""
      ]
    },
    {
      "cell_type": "code",
      "source": [
        "twierdzenie[13:23]"
      ],
      "metadata": {
        "colab": {
          "base_uri": "https://localhost:8080/",
          "height": 35
        },
        "id": "vLiSjfQQ5lm9",
        "outputId": "12a4c35f-1469-4a77-9443-2d95f643f0fe"
      },
      "execution_count": 6,
      "outputs": [
        {
          "output_type": "execute_result",
          "data": {
            "text/plain": [
              "'ęcia z pro'"
            ],
            "application/vnd.google.colaboratory.intrinsic+json": {
              "type": "string"
            }
          },
          "metadata": {},
          "execution_count": 6
        }
      ]
    },
    {
      "cell_type": "code",
      "source": [
        "twierdzenie[-33:]"
      ],
      "metadata": {
        "colab": {
          "base_uri": "https://localhost:8080/",
          "height": 35
        },
        "id": "KSrNZwMP58n4",
        "outputId": "84474e3e-7a61-48c6-dc45-cccbeed6dbcd"
      },
      "execution_count": 7,
      "outputs": [
        {
          "output_type": "execute_result",
          "data": {
            "text/plain": [
              "'Uwielbiam zajęcia z programowania'"
            ],
            "application/vnd.google.colaboratory.intrinsic+json": {
              "type": "string"
            }
          },
          "metadata": {},
          "execution_count": 7
        }
      ]
    },
    {
      "cell_type": "code",
      "source": [
        "twierdzenie[1::3]"
      ],
      "metadata": {
        "colab": {
          "base_uri": "https://localhost:8080/",
          "height": 35
        },
        "id": "g9gINx-k67ZE",
        "outputId": "2ac2d562-4bc9-491e-8967-99c0f3a7bf7b"
      },
      "execution_count": 8,
      "outputs": [
        {
          "output_type": "execute_result",
          "data": {
            "text/plain": [
              "'wlazęa oawi'"
            ],
            "application/vnd.google.colaboratory.intrinsic+json": {
              "type": "string"
            }
          },
          "metadata": {},
          "execution_count": 8
        }
      ]
    },
    {
      "cell_type": "code",
      "source": [
        "kolor = \"Czarny to mój ulubiony kolor, niestety, kolor czarny bardzo szybko spiera się z moich ubrań.\""
      ],
      "metadata": {
        "id": "pkCQFzZJ7xWY"
      },
      "execution_count": 9,
      "outputs": []
    },
    {
      "cell_type": "code",
      "source": [
        "kolor.isupper()"
      ],
      "metadata": {
        "colab": {
          "base_uri": "https://localhost:8080/"
        },
        "id": "ekqtY7KK75Gp",
        "outputId": "7051dc16-309b-4aee-fe68-efeb482eb1b6"
      },
      "execution_count": 10,
      "outputs": [
        {
          "output_type": "execute_result",
          "data": {
            "text/plain": [
              "False"
            ]
          },
          "metadata": {},
          "execution_count": 10
        }
      ]
    },
    {
      "cell_type": "code",
      "source": [
        "kolor.startswith(\"C\")"
      ],
      "metadata": {
        "colab": {
          "base_uri": "https://localhost:8080/"
        },
        "id": "_0aIZIrg8CW3",
        "outputId": "6756dd9c-ddee-40c0-f551-aeec69c499a6"
      },
      "execution_count": 11,
      "outputs": [
        {
          "output_type": "execute_result",
          "data": {
            "text/plain": [
              "True"
            ]
          },
          "metadata": {},
          "execution_count": 11
        }
      ]
    },
    {
      "cell_type": "code",
      "source": [
        "kolor.lower().replace(\"czarny\", \"niebieski\").capitalize()"
      ],
      "metadata": {
        "colab": {
          "base_uri": "https://localhost:8080/",
          "height": 52
        },
        "id": "KorItJ048HSG",
        "outputId": "0e0c8727-c4db-44de-fc27-30dc364263d7"
      },
      "execution_count": 12,
      "outputs": [
        {
          "output_type": "execute_result",
          "data": {
            "text/plain": [
              "'Niebieski to mój ulubiony kolor, niestety, kolor niebieski bardzo szybko spiera się z moich ubrań.'"
            ],
            "application/vnd.google.colaboratory.intrinsic+json": {
              "type": "string"
            }
          },
          "metadata": {},
          "execution_count": 12
        }
      ]
    },
    {
      "cell_type": "code",
      "source": [
        "# lub opcja numer 2 ale chyba nie o to chodziło"
      ],
      "metadata": {
        "id": "DTzBYtOl-go_"
      },
      "execution_count": 13,
      "outputs": []
    },
    {
      "cell_type": "code",
      "source": [
        "nowy_kolor = \"zielony\""
      ],
      "metadata": {
        "id": "A2QVljqi8aru"
      },
      "execution_count": 14,
      "outputs": []
    },
    {
      "cell_type": "code",
      "source": [
        "kolor2 = kolor.replace(\"Czarny\", nowy_kolor).capitalize().replace(\"czarny\", nowy_kolor)"
      ],
      "metadata": {
        "id": "r40Xu1TH9kqG"
      },
      "execution_count": 15,
      "outputs": []
    },
    {
      "cell_type": "code",
      "source": [
        "print(kolor2)"
      ],
      "metadata": {
        "colab": {
          "base_uri": "https://localhost:8080/"
        },
        "id": "RR31FNKp-evV",
        "outputId": "626d6831-d414-4543-9000-abf8c4e91d39"
      },
      "execution_count": 16,
      "outputs": [
        {
          "output_type": "stream",
          "name": "stdout",
          "text": [
            "Zielony to mój ulubiony kolor, niestety, kolor zielony bardzo szybko spiera się z moich ubrań.\n"
          ]
        }
      ]
    },
    {
      "cell_type": "code",
      "source": [],
      "metadata": {
        "id": "ITdh7L8k_I0d"
      },
      "execution_count": null,
      "outputs": []
    }
  ]
}